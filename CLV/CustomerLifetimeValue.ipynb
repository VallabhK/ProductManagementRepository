{
 "cells": [
  {
   "cell_type": "markdown",
   "metadata": {},
   "source": [
    "## Making Products Count: Data Science for Product Managers\n",
    "HW 1: Calculating Customer Lifetime Value"
   ]
  },
  {
   "cell_type": "code",
   "execution_count": 1,
   "metadata": {},
   "outputs": [],
   "source": [
    "import pandas as pd\n",
    "import numpy as np\n",
    "from datetime import datetime\n",
    "from matplotlib import pyplot as plt \n",
    "\n",
    "import warnings\n",
    "warnings.filterwarnings(\"ignore\")\n"
   ]
  },
  {
   "cell_type": "code",
   "execution_count": 2,
   "metadata": {},
   "outputs": [
    {
     "data": {
      "text/html": [
       "<div>\n",
       "<style scoped>\n",
       "    .dataframe tbody tr th:only-of-type {\n",
       "        vertical-align: middle;\n",
       "    }\n",
       "\n",
       "    .dataframe tbody tr th {\n",
       "        vertical-align: top;\n",
       "    }\n",
       "\n",
       "    .dataframe thead th {\n",
       "        text-align: right;\n",
       "    }\n",
       "</style>\n",
       "<table border=\"1\" class=\"dataframe\">\n",
       "  <thead>\n",
       "    <tr style=\"text-align: right;\">\n",
       "      <th></th>\n",
       "      <th>TransactionID</th>\n",
       "      <th>TransactionDate</th>\n",
       "      <th>CustomerID</th>\n",
       "      <th>Amount</th>\n",
       "    </tr>\n",
       "  </thead>\n",
       "  <tbody>\n",
       "    <tr>\n",
       "      <th>0</th>\n",
       "      <td>1</td>\n",
       "      <td>9/4/2012</td>\n",
       "      <td>1</td>\n",
       "      <td>20.26</td>\n",
       "    </tr>\n",
       "    <tr>\n",
       "      <th>1</th>\n",
       "      <td>2</td>\n",
       "      <td>5/15/2012</td>\n",
       "      <td>2</td>\n",
       "      <td>10.87</td>\n",
       "    </tr>\n",
       "    <tr>\n",
       "      <th>2</th>\n",
       "      <td>3</td>\n",
       "      <td>5/23/2014</td>\n",
       "      <td>2</td>\n",
       "      <td>2.21</td>\n",
       "    </tr>\n",
       "    <tr>\n",
       "      <th>3</th>\n",
       "      <td>4</td>\n",
       "      <td>10/24/2014</td>\n",
       "      <td>2</td>\n",
       "      <td>10.48</td>\n",
       "    </tr>\n",
       "    <tr>\n",
       "      <th>4</th>\n",
       "      <td>5</td>\n",
       "      <td>10/13/2012</td>\n",
       "      <td>2</td>\n",
       "      <td>3.94</td>\n",
       "    </tr>\n",
       "    <tr>\n",
       "      <th>...</th>\n",
       "      <td>...</td>\n",
       "      <td>...</td>\n",
       "      <td>...</td>\n",
       "      <td>...</td>\n",
       "    </tr>\n",
       "    <tr>\n",
       "      <th>4181</th>\n",
       "      <td>4182</td>\n",
       "      <td>6/23/2013</td>\n",
       "      <td>1000</td>\n",
       "      <td>3.86</td>\n",
       "    </tr>\n",
       "    <tr>\n",
       "      <th>4182</th>\n",
       "      <td>4183</td>\n",
       "      <td>8/7/2011</td>\n",
       "      <td>1000</td>\n",
       "      <td>4.00</td>\n",
       "    </tr>\n",
       "    <tr>\n",
       "      <th>4183</th>\n",
       "      <td>4184</td>\n",
       "      <td>10/7/2012</td>\n",
       "      <td>1000</td>\n",
       "      <td>18.37</td>\n",
       "    </tr>\n",
       "    <tr>\n",
       "      <th>4184</th>\n",
       "      <td>4185</td>\n",
       "      <td>1/9/2014</td>\n",
       "      <td>1000</td>\n",
       "      <td>3.45</td>\n",
       "    </tr>\n",
       "    <tr>\n",
       "      <th>4185</th>\n",
       "      <td>4186</td>\n",
       "      <td>4/30/2011</td>\n",
       "      <td>1000</td>\n",
       "      <td>5.18</td>\n",
       "    </tr>\n",
       "  </tbody>\n",
       "</table>\n",
       "<p>4186 rows × 4 columns</p>\n",
       "</div>"
      ],
      "text/plain": [
       "      TransactionID TransactionDate  CustomerID  Amount\n",
       "0                 1        9/4/2012           1   20.26\n",
       "1                 2       5/15/2012           2   10.87\n",
       "2                 3       5/23/2014           2    2.21\n",
       "3                 4      10/24/2014           2   10.48\n",
       "4                 5      10/13/2012           2    3.94\n",
       "...             ...             ...         ...     ...\n",
       "4181           4182       6/23/2013        1000    3.86\n",
       "4182           4183        8/7/2011        1000    4.00\n",
       "4183           4184       10/7/2012        1000   18.37\n",
       "4184           4185        1/9/2014        1000    3.45\n",
       "4185           4186       4/30/2011        1000    5.18\n",
       "\n",
       "[4186 rows x 4 columns]"
      ]
     },
     "execution_count": 2,
     "metadata": {},
     "output_type": "execute_result"
    }
   ],
   "source": [
    "dataframe = pd.read_csv(\"HW1 clv_transactions.csv\")\n",
    "dataframe"
   ]
  },
  {
   "cell_type": "code",
   "execution_count": 3,
   "metadata": {},
   "outputs": [
    {
     "data": {
      "text/html": [
       "<div>\n",
       "<style scoped>\n",
       "    .dataframe tbody tr th:only-of-type {\n",
       "        vertical-align: middle;\n",
       "    }\n",
       "\n",
       "    .dataframe tbody tr th {\n",
       "        vertical-align: top;\n",
       "    }\n",
       "\n",
       "    .dataframe thead th {\n",
       "        text-align: right;\n",
       "    }\n",
       "</style>\n",
       "<table border=\"1\" class=\"dataframe\">\n",
       "  <thead>\n",
       "    <tr style=\"text-align: right;\">\n",
       "      <th></th>\n",
       "      <th>TransactionID</th>\n",
       "      <th>CustomerID</th>\n",
       "      <th>Amount</th>\n",
       "    </tr>\n",
       "  </thead>\n",
       "  <tbody>\n",
       "    <tr>\n",
       "      <th>count</th>\n",
       "      <td>4186.000000</td>\n",
       "      <td>4186.000000</td>\n",
       "      <td>4186.000000</td>\n",
       "    </tr>\n",
       "    <tr>\n",
       "      <th>mean</th>\n",
       "      <td>2093.500000</td>\n",
       "      <td>516.165791</td>\n",
       "      <td>9.028082</td>\n",
       "    </tr>\n",
       "    <tr>\n",
       "      <th>std</th>\n",
       "      <td>1208.538442</td>\n",
       "      <td>291.465283</td>\n",
       "      <td>38.723909</td>\n",
       "    </tr>\n",
       "    <tr>\n",
       "      <th>min</th>\n",
       "      <td>1.000000</td>\n",
       "      <td>1.000000</td>\n",
       "      <td>-1.000000</td>\n",
       "    </tr>\n",
       "    <tr>\n",
       "      <th>25%</th>\n",
       "      <td>1047.250000</td>\n",
       "      <td>270.000000</td>\n",
       "      <td>3.310000</td>\n",
       "    </tr>\n",
       "    <tr>\n",
       "      <th>50%</th>\n",
       "      <td>2093.500000</td>\n",
       "      <td>522.000000</td>\n",
       "      <td>6.885000</td>\n",
       "    </tr>\n",
       "    <tr>\n",
       "      <th>75%</th>\n",
       "      <td>3139.750000</td>\n",
       "      <td>762.750000</td>\n",
       "      <td>11.690000</td>\n",
       "    </tr>\n",
       "    <tr>\n",
       "      <th>max</th>\n",
       "      <td>4186.000000</td>\n",
       "      <td>1000.000000</td>\n",
       "      <td>2033.000000</td>\n",
       "    </tr>\n",
       "  </tbody>\n",
       "</table>\n",
       "</div>"
      ],
      "text/plain": [
       "       TransactionID   CustomerID       Amount\n",
       "count    4186.000000  4186.000000  4186.000000\n",
       "mean     2093.500000   516.165791     9.028082\n",
       "std      1208.538442   291.465283    38.723909\n",
       "min         1.000000     1.000000    -1.000000\n",
       "25%      1047.250000   270.000000     3.310000\n",
       "50%      2093.500000   522.000000     6.885000\n",
       "75%      3139.750000   762.750000    11.690000\n",
       "max      4186.000000  1000.000000  2033.000000"
      ]
     },
     "execution_count": 3,
     "metadata": {},
     "output_type": "execute_result"
    }
   ],
   "source": [
    "dataframe.describe()\n",
    "#This is preliminary analysis on amount, not applicable to customerID\n",
    "#and transaction ID"
   ]
  },
  {
   "cell_type": "code",
   "execution_count": 4,
   "metadata": {},
   "outputs": [
    {
     "data": {
      "text/plain": [
       "TransactionID      0\n",
       "TransactionDate    0\n",
       "CustomerID         0\n",
       "Amount             0\n",
       "dtype: int64"
      ]
     },
     "execution_count": 4,
     "metadata": {},
     "output_type": "execute_result"
    }
   ],
   "source": [
    "#Let's chech if the dataframe has null values\n",
    "dataframe.isnull().sum()\n",
    "#There are no null values in the dataframe"
   ]
  },
  {
   "cell_type": "code",
   "execution_count": 5,
   "metadata": {},
   "outputs": [],
   "source": [
    "#As while reading the file date column is read as string hence formatting becomes essential\n",
    "#Range of dates in a dataframe\n",
    "dataframe['TransactionDate'] = pd.to_datetime(dataframe['TransactionDate'], format='%m/%d/%Y')\n"
   ]
  },
  {
   "cell_type": "code",
   "execution_count": 6,
   "metadata": {},
   "outputs": [
    {
     "name": "stdout",
     "output_type": "stream",
     "text": [
      "Date ranges from:  2010-01-04 00:00:00  to  2015-12-31 00:00:00\n"
     ]
    }
   ],
   "source": [
    "#To find the range of dates\n",
    "print(\"Date ranges from: \", dataframe['TransactionDate'].min(), \" to \", dataframe['TransactionDate'].max())"
   ]
  },
  {
   "cell_type": "code",
   "execution_count": 7,
   "metadata": {},
   "outputs": [
    {
     "name": "stdout",
     "output_type": "stream",
     "text": [
      "Number of unique customers:  1000\n"
     ]
    }
   ],
   "source": [
    "print(\"Number of unique customers: \", len(dataframe['CustomerID'].unique()))"
   ]
  },
  {
   "cell_type": "code",
   "execution_count": 8,
   "metadata": {},
   "outputs": [
    {
     "data": {
      "text/plain": [
       "count    4186.000000\n",
       "mean        9.028082\n",
       "std        38.723909\n",
       "min        -1.000000\n",
       "25%         3.310000\n",
       "50%         6.885000\n",
       "75%        11.690000\n",
       "max      2033.000000\n",
       "Name: Amount, dtype: float64"
      ]
     },
     "execution_count": 8,
     "metadata": {},
     "output_type": "execute_result"
    }
   ],
   "source": [
    "#Standard descriptive statistics for Amount field\n",
    "dataframe['Amount'].describe()"
   ]
  },
  {
   "cell_type": "code",
   "execution_count": 9,
   "metadata": {},
   "outputs": [
    {
     "name": "stdout",
     "output_type": "stream",
     "text": [
      "Standard deviation:  38.71928309075012\n"
     ]
    }
   ],
   "source": [
    "print(\"Standard deviation: \", (np.array(dataframe['Amount'])).std())"
   ]
  },
  {
   "cell_type": "code",
   "execution_count": 10,
   "metadata": {},
   "outputs": [
    {
     "name": "stdout",
     "output_type": "stream",
     "text": [
      "Variance  1499.182883061648\n"
     ]
    }
   ],
   "source": [
    "print(\"Variance \", (np.array(dataframe['Amount'])).var())"
   ]
  },
  {
   "cell_type": "code",
   "execution_count": 11,
   "metadata": {},
   "outputs": [
    {
     "data": {
      "text/plain": [
       "Year\n",
       "2010     260\n",
       "2011     441\n",
       "2012     649\n",
       "2013     827\n",
       "2014     945\n",
       "2015    1064\n",
       "Name: Amount, dtype: int64"
      ]
     },
     "execution_count": 11,
     "metadata": {},
     "output_type": "execute_result"
    }
   ],
   "source": [
    "#Lets see if the if number of amounts have increased over the years\n",
    "dataframe['Year'] = dataframe['TransactionDate'].dt.year\n",
    "dataframe['Amount'].groupby(dataframe.Year).count()"
   ]
  },
  {
   "cell_type": "code",
   "execution_count": 12,
   "metadata": {},
   "outputs": [
    {
     "data": {
      "image/png": "[encoded data removed]",
      "text/plain": [
       "<Figure size 432x288 with 1 Axes>"
      ]
     },
     "metadata": {
      "needs_background": "light"
     },
     "output_type": "display_data"
    }
   ],
   "source": [
    "#Transaction Amount over the years\n",
    "(dataframe['Amount'].groupby(dataframe.Year).count()).plot()\n",
    "plt.ylabel=\"Amount\"\n",
    "plt.show()\n",
    "#From the graph it can be seen that transaction amounts have increased over time\n"
   ]
  },
  {
   "cell_type": "code",
   "execution_count": 13,
   "metadata": {},
   "outputs": [
    {
     "data": {
      "image/png": "[encoded data removed]",
      "text/plain": [
       "<Figure size 432x288 with 1 Axes>"
      ]
     },
     "metadata": {
      "needs_background": "light"
     },
     "output_type": "display_data"
    }
   ],
   "source": [
    "(dataframe['Amount'].groupby(dataframe.Year).sum()).plot(x='Year', y='Amount')\n",
    "plt.ylabel='Amount'\n",
    "plt.show()"
   ]
  },
  {
   "cell_type": "code",
   "execution_count": 14,
   "metadata": {},
   "outputs": [
    {
     "data": {
      "image/png": "[encoded data removed]",
      "text/plain": [
       "<Figure size 432x288 with 1 Axes>"
      ]
     },
     "metadata": {
      "needs_background": "light"
     },
     "output_type": "display_data"
    }
   ],
   "source": [
    "dataframe.plot.scatter(x=\"TransactionDate\", y=\"Amount\", c=\"DarkBlue\")\n",
    "plt.show()\n",
    "# Looks like there are few values which are way off than the actual distribution"
   ]
  },
  {
   "cell_type": "code",
   "execution_count": 15,
   "metadata": {},
   "outputs": [
    {
     "data": {
      "text/plain": [
       "<AxesSubplot:ylabel='Frequency'>"
      ]
     },
     "execution_count": 15,
     "metadata": {},
     "output_type": "execute_result"
    },
    {
     "data": {
      "image/png": "[encoded data removed]",
      "text/plain": [
       "<Figure size 432x288 with 1 Axes>"
      ]
     },
     "metadata": {
      "needs_background": "light"
     },
     "output_type": "display_data"
    }
   ],
   "source": [
    "dataframe.plot.hist(x=\"TransactionDate\", y=\"Amount\")\n",
    "#As we can see from the histogram it shows only few values and not a distribution\n",
    "#Outliers are present"
   ]
  },
  {
   "cell_type": "code",
   "execution_count": 16,
   "metadata": {},
   "outputs": [
    {
     "data": {
      "text/plain": [
       "TransactionID    3377.0\n",
       "CustomerID        824.0\n",
       "Amount             -2.0\n",
       "Year             4026.0\n",
       "dtype: float64"
      ]
     },
     "execution_count": 16,
     "metadata": {},
     "output_type": "execute_result"
    }
   ],
   "source": [
    "#Checking if the values in amount field are negative\n",
    "dataframe[dataframe['Amount']<0].sum()"
   ]
  },
  {
   "cell_type": "code",
   "execution_count": 17,
   "metadata": {},
   "outputs": [],
   "source": [
    "#These values which are very high and are negative are outliers\n",
    "#To address these outliers we can simply discard those entries from\n",
    "#the dataframe as they seem to be wrong entries\n",
    "#due to data entry error as amount can't be negative and way off than majority of the values\n",
    "dataframe = dataframe[(dataframe['Amount'] < 750) & (dataframe['Amount'] > 0)]"
   ]
  },
  {
   "cell_type": "code",
   "execution_count": 18,
   "metadata": {},
   "outputs": [
    {
     "data": {
      "image/png": "[encoded data removed]",
      "text/plain": [
       "<Figure size 432x288 with 1 Axes>"
      ]
     },
     "metadata": {
      "needs_background": "light"
     },
     "output_type": "display_data"
    }
   ],
   "source": [
    "#Treated dataframe which has no outliers\n",
    "dataframe.plot.scatter(x=\"TransactionDate\", y=\"Amount\", c=\"DarkBlue\")\n",
    "plt.show()"
   ]
  },
  {
   "cell_type": "code",
   "execution_count": 19,
   "metadata": {},
   "outputs": [
    {
     "data": {
      "image/png": "[encoded data removed]",
      "text/plain": [
       "<Figure size 432x288 with 1 Axes>"
      ]
     },
     "metadata": {
      "needs_background": "light"
     },
     "output_type": "display_data"
    }
   ],
   "source": [
    "dataframe.plot.hist(x=\"TransactionDate\", y=\"Amount\")\n",
    "plt.show()\n",
    "#The below graph is correct representation of data"
   ]
  },
  {
   "cell_type": "code",
   "execution_count": 20,
   "metadata": {},
   "outputs": [
    {
     "data": {
      "text/plain": [
       "Year\n",
       "2010    172\n",
       "2011    263\n",
       "2012    359\n",
       "2013    478\n",
       "2014    548\n",
       "2015    612\n",
       "Name: CustomerID, dtype: int64"
      ]
     },
     "execution_count": 20,
     "metadata": {},
     "output_type": "execute_result"
    }
   ],
   "source": [
    "#Origin years of customer\n",
    "dataframe['CustomerID'].groupby(dataframe.Year).nunique()"
   ]
  },
  {
   "cell_type": "code",
   "execution_count": 21,
   "metadata": {},
   "outputs": [],
   "source": [
    "dataframe.sort_values('TransactionDate', inplace=True)"
   ]
  },
  {
   "cell_type": "code",
   "execution_count": 22,
   "metadata": {},
   "outputs": [],
   "source": [
    "originYear = dataframe.groupby(dataframe['CustomerID'])\n",
    "originYear = originYear.agg(originYear = ('Year', np.min))\n",
    "\n",
    "clvDataframe = pd.merge(dataframe, originYear, on='CustomerID')"
   ]
  },
  {
   "cell_type": "code",
   "execution_count": 23,
   "metadata": {},
   "outputs": [
    {
     "data": {
      "text/html": [
       "<div>\n",
       "<style scoped>\n",
       "    .dataframe tbody tr th:only-of-type {\n",
       "        vertical-align: middle;\n",
       "    }\n",
       "\n",
       "    .dataframe tbody tr th {\n",
       "        vertical-align: top;\n",
       "    }\n",
       "\n",
       "    .dataframe thead th {\n",
       "        text-align: right;\n",
       "    }\n",
       "</style>\n",
       "<table border=\"1\" class=\"dataframe\">\n",
       "  <thead>\n",
       "    <tr style=\"text-align: right;\">\n",
       "      <th></th>\n",
       "      <th>TransactionID</th>\n",
       "      <th>TransactionDate</th>\n",
       "      <th>CustomerID</th>\n",
       "      <th>Amount</th>\n",
       "      <th>Year</th>\n",
       "      <th>originYear</th>\n",
       "    </tr>\n",
       "  </thead>\n",
       "  <tbody>\n",
       "    <tr>\n",
       "      <th>0</th>\n",
       "      <td>1737</td>\n",
       "      <td>2010-01-04</td>\n",
       "      <td>429</td>\n",
       "      <td>3.27</td>\n",
       "      <td>2010</td>\n",
       "      <td>2010</td>\n",
       "    </tr>\n",
       "    <tr>\n",
       "      <th>1</th>\n",
       "      <td>1747</td>\n",
       "      <td>2010-06-15</td>\n",
       "      <td>429</td>\n",
       "      <td>2.63</td>\n",
       "      <td>2010</td>\n",
       "      <td>2010</td>\n",
       "    </tr>\n",
       "    <tr>\n",
       "      <th>2</th>\n",
       "      <td>1738</td>\n",
       "      <td>2010-11-06</td>\n",
       "      <td>429</td>\n",
       "      <td>1.37</td>\n",
       "      <td>2010</td>\n",
       "      <td>2010</td>\n",
       "    </tr>\n",
       "    <tr>\n",
       "      <th>3</th>\n",
       "      <td>1740</td>\n",
       "      <td>2011-02-26</td>\n",
       "      <td>429</td>\n",
       "      <td>9.98</td>\n",
       "      <td>2011</td>\n",
       "      <td>2010</td>\n",
       "    </tr>\n",
       "    <tr>\n",
       "      <th>4</th>\n",
       "      <td>1743</td>\n",
       "      <td>2011-10-07</td>\n",
       "      <td>429</td>\n",
       "      <td>4.66</td>\n",
       "      <td>2011</td>\n",
       "      <td>2010</td>\n",
       "    </tr>\n",
       "    <tr>\n",
       "      <th>...</th>\n",
       "      <td>...</td>\n",
       "      <td>...</td>\n",
       "      <td>...</td>\n",
       "      <td>...</td>\n",
       "      <td>...</td>\n",
       "      <td>...</td>\n",
       "    </tr>\n",
       "    <tr>\n",
       "      <th>4176</th>\n",
       "      <td>967</td>\n",
       "      <td>2015-12-24</td>\n",
       "      <td>241</td>\n",
       "      <td>24.47</td>\n",
       "      <td>2015</td>\n",
       "      <td>2015</td>\n",
       "    </tr>\n",
       "    <tr>\n",
       "      <th>4177</th>\n",
       "      <td>620</td>\n",
       "      <td>2015-12-25</td>\n",
       "      <td>157</td>\n",
       "      <td>1.29</td>\n",
       "      <td>2015</td>\n",
       "      <td>2015</td>\n",
       "    </tr>\n",
       "    <tr>\n",
       "      <th>4178</th>\n",
       "      <td>1143</td>\n",
       "      <td>2015-12-27</td>\n",
       "      <td>290</td>\n",
       "      <td>1.03</td>\n",
       "      <td>2015</td>\n",
       "      <td>2015</td>\n",
       "    </tr>\n",
       "    <tr>\n",
       "      <th>4179</th>\n",
       "      <td>2923</td>\n",
       "      <td>2015-12-28</td>\n",
       "      <td>716</td>\n",
       "      <td>7.43</td>\n",
       "      <td>2015</td>\n",
       "      <td>2015</td>\n",
       "    </tr>\n",
       "    <tr>\n",
       "      <th>4180</th>\n",
       "      <td>1003</td>\n",
       "      <td>2015-12-31</td>\n",
       "      <td>255</td>\n",
       "      <td>5.74</td>\n",
       "      <td>2015</td>\n",
       "      <td>2015</td>\n",
       "    </tr>\n",
       "  </tbody>\n",
       "</table>\n",
       "<p>4181 rows × 6 columns</p>\n",
       "</div>"
      ],
      "text/plain": [
       "      TransactionID TransactionDate  CustomerID  Amount  Year  originYear\n",
       "0              1737      2010-01-04         429    3.27  2010        2010\n",
       "1              1747      2010-06-15         429    2.63  2010        2010\n",
       "2              1738      2010-11-06         429    1.37  2010        2010\n",
       "3              1740      2011-02-26         429    9.98  2011        2010\n",
       "4              1743      2011-10-07         429    4.66  2011        2010\n",
       "...             ...             ...         ...     ...   ...         ...\n",
       "4176            967      2015-12-24         241   24.47  2015        2015\n",
       "4177            620      2015-12-25         157    1.29  2015        2015\n",
       "4178           1143      2015-12-27         290    1.03  2015        2015\n",
       "4179           2923      2015-12-28         716    7.43  2015        2015\n",
       "4180           1003      2015-12-31         255    5.74  2015        2015\n",
       "\n",
       "[4181 rows x 6 columns]"
      ]
     },
     "execution_count": 23,
     "metadata": {},
     "output_type": "execute_result"
    }
   ],
   "source": [
    "clvDataframe\n",
    "#These are the years for which customer's first transaction was recorded"
   ]
  },
  {
   "cell_type": "code",
   "execution_count": 24,
   "metadata": {},
   "outputs": [],
   "source": [
    "#Step 4\n",
    "ageDataframe = clvDataframe[\"CustomerID\"].groupby(by=clvDataframe[\"originYear\"]).nunique().reset_index()"
   ]
  },
  {
   "cell_type": "code",
   "execution_count": 25,
   "metadata": {},
   "outputs": [
    {
     "data": {
      "text/html": [
       "<div>\n",
       "<style scoped>\n",
       "    .dataframe tbody tr th:only-of-type {\n",
       "        vertical-align: middle;\n",
       "    }\n",
       "\n",
       "    .dataframe tbody tr th {\n",
       "        vertical-align: top;\n",
       "    }\n",
       "\n",
       "    .dataframe thead th {\n",
       "        text-align: right;\n",
       "    }\n",
       "</style>\n",
       "<table border=\"1\" class=\"dataframe\">\n",
       "  <thead>\n",
       "    <tr style=\"text-align: right;\">\n",
       "      <th></th>\n",
       "      <th>originYear</th>\n",
       "      <th>CustomerID</th>\n",
       "    </tr>\n",
       "  </thead>\n",
       "  <tbody>\n",
       "    <tr>\n",
       "      <th>0</th>\n",
       "      <td>2010</td>\n",
       "      <td>172</td>\n",
       "    </tr>\n",
       "    <tr>\n",
       "      <th>1</th>\n",
       "      <td>2011</td>\n",
       "      <td>170</td>\n",
       "    </tr>\n",
       "    <tr>\n",
       "      <th>2</th>\n",
       "      <td>2012</td>\n",
       "      <td>163</td>\n",
       "    </tr>\n",
       "    <tr>\n",
       "      <th>3</th>\n",
       "      <td>2013</td>\n",
       "      <td>180</td>\n",
       "    </tr>\n",
       "    <tr>\n",
       "      <th>4</th>\n",
       "      <td>2014</td>\n",
       "      <td>155</td>\n",
       "    </tr>\n",
       "    <tr>\n",
       "      <th>5</th>\n",
       "      <td>2015</td>\n",
       "      <td>160</td>\n",
       "    </tr>\n",
       "  </tbody>\n",
       "</table>\n",
       "</div>"
      ],
      "text/plain": [
       "   originYear  CustomerID\n",
       "0        2010         172\n",
       "1        2011         170\n",
       "2        2012         163\n",
       "3        2013         180\n",
       "4        2014         155\n",
       "5        2015         160"
      ]
     },
     "execution_count": 25,
     "metadata": {},
     "output_type": "execute_result"
    }
   ],
   "source": [
    "ageDataframe"
   ]
  },
  {
   "cell_type": "code",
   "execution_count": 26,
   "metadata": {},
   "outputs": [],
   "source": [
    "#We can calculate the age by simply calculating the difference in years and multiplying by 12\n",
    "clvDataframe['Age'] = (clvDataframe['Year'] - clvDataframe['originYear'] + 1 ) * 12"
   ]
  },
  {
   "cell_type": "code",
   "execution_count": 27,
   "metadata": {},
   "outputs": [
    {
     "data": {
      "text/html": [
       "<div>\n",
       "<style scoped>\n",
       "    .dataframe tbody tr th:only-of-type {\n",
       "        vertical-align: middle;\n",
       "    }\n",
       "\n",
       "    .dataframe tbody tr th {\n",
       "        vertical-align: top;\n",
       "    }\n",
       "\n",
       "    .dataframe thead th {\n",
       "        text-align: right;\n",
       "    }\n",
       "</style>\n",
       "<table border=\"1\" class=\"dataframe\">\n",
       "  <thead>\n",
       "    <tr style=\"text-align: right;\">\n",
       "      <th></th>\n",
       "      <th>TransactionID</th>\n",
       "      <th>TransactionDate</th>\n",
       "      <th>CustomerID</th>\n",
       "      <th>Amount</th>\n",
       "      <th>Year</th>\n",
       "      <th>originYear</th>\n",
       "      <th>Age</th>\n",
       "    </tr>\n",
       "  </thead>\n",
       "  <tbody>\n",
       "    <tr>\n",
       "      <th>0</th>\n",
       "      <td>1737</td>\n",
       "      <td>2010-01-04</td>\n",
       "      <td>429</td>\n",
       "      <td>3.27</td>\n",
       "      <td>2010</td>\n",
       "      <td>2010</td>\n",
       "      <td>12</td>\n",
       "    </tr>\n",
       "    <tr>\n",
       "      <th>1</th>\n",
       "      <td>1747</td>\n",
       "      <td>2010-06-15</td>\n",
       "      <td>429</td>\n",
       "      <td>2.63</td>\n",
       "      <td>2010</td>\n",
       "      <td>2010</td>\n",
       "      <td>12</td>\n",
       "    </tr>\n",
       "    <tr>\n",
       "      <th>2</th>\n",
       "      <td>1738</td>\n",
       "      <td>2010-11-06</td>\n",
       "      <td>429</td>\n",
       "      <td>1.37</td>\n",
       "      <td>2010</td>\n",
       "      <td>2010</td>\n",
       "      <td>12</td>\n",
       "    </tr>\n",
       "    <tr>\n",
       "      <th>3</th>\n",
       "      <td>1740</td>\n",
       "      <td>2011-02-26</td>\n",
       "      <td>429</td>\n",
       "      <td>9.98</td>\n",
       "      <td>2011</td>\n",
       "      <td>2010</td>\n",
       "      <td>24</td>\n",
       "    </tr>\n",
       "    <tr>\n",
       "      <th>4</th>\n",
       "      <td>1743</td>\n",
       "      <td>2011-10-07</td>\n",
       "      <td>429</td>\n",
       "      <td>4.66</td>\n",
       "      <td>2011</td>\n",
       "      <td>2010</td>\n",
       "      <td>24</td>\n",
       "    </tr>\n",
       "    <tr>\n",
       "      <th>...</th>\n",
       "      <td>...</td>\n",
       "      <td>...</td>\n",
       "      <td>...</td>\n",
       "      <td>...</td>\n",
       "      <td>...</td>\n",
       "      <td>...</td>\n",
       "      <td>...</td>\n",
       "    </tr>\n",
       "    <tr>\n",
       "      <th>4176</th>\n",
       "      <td>967</td>\n",
       "      <td>2015-12-24</td>\n",
       "      <td>241</td>\n",
       "      <td>24.47</td>\n",
       "      <td>2015</td>\n",
       "      <td>2015</td>\n",
       "      <td>12</td>\n",
       "    </tr>\n",
       "    <tr>\n",
       "      <th>4177</th>\n",
       "      <td>620</td>\n",
       "      <td>2015-12-25</td>\n",
       "      <td>157</td>\n",
       "      <td>1.29</td>\n",
       "      <td>2015</td>\n",
       "      <td>2015</td>\n",
       "      <td>12</td>\n",
       "    </tr>\n",
       "    <tr>\n",
       "      <th>4178</th>\n",
       "      <td>1143</td>\n",
       "      <td>2015-12-27</td>\n",
       "      <td>290</td>\n",
       "      <td>1.03</td>\n",
       "      <td>2015</td>\n",
       "      <td>2015</td>\n",
       "      <td>12</td>\n",
       "    </tr>\n",
       "    <tr>\n",
       "      <th>4179</th>\n",
       "      <td>2923</td>\n",
       "      <td>2015-12-28</td>\n",
       "      <td>716</td>\n",
       "      <td>7.43</td>\n",
       "      <td>2015</td>\n",
       "      <td>2015</td>\n",
       "      <td>12</td>\n",
       "    </tr>\n",
       "    <tr>\n",
       "      <th>4180</th>\n",
       "      <td>1003</td>\n",
       "      <td>2015-12-31</td>\n",
       "      <td>255</td>\n",
       "      <td>5.74</td>\n",
       "      <td>2015</td>\n",
       "      <td>2015</td>\n",
       "      <td>12</td>\n",
       "    </tr>\n",
       "  </tbody>\n",
       "</table>\n",
       "<p>4181 rows × 7 columns</p>\n",
       "</div>"
      ],
      "text/plain": [
       "      TransactionID TransactionDate  CustomerID  Amount  Year  originYear  Age\n",
       "0              1737      2010-01-04         429    3.27  2010        2010   12\n",
       "1              1747      2010-06-15         429    2.63  2010        2010   12\n",
       "2              1738      2010-11-06         429    1.37  2010        2010   12\n",
       "3              1740      2011-02-26         429    9.98  2011        2010   24\n",
       "4              1743      2011-10-07         429    4.66  2011        2010   24\n",
       "...             ...             ...         ...     ...   ...         ...  ...\n",
       "4176            967      2015-12-24         241   24.47  2015        2015   12\n",
       "4177            620      2015-12-25         157    1.29  2015        2015   12\n",
       "4178           1143      2015-12-27         290    1.03  2015        2015   12\n",
       "4179           2923      2015-12-28         716    7.43  2015        2015   12\n",
       "4180           1003      2015-12-31         255    5.74  2015        2015   12\n",
       "\n",
       "[4181 rows x 7 columns]"
      ]
     },
     "execution_count": 27,
     "metadata": {},
     "output_type": "execute_result"
    }
   ],
   "source": [
    "clvDataframe"
   ]
  },
  {
   "cell_type": "code",
   "execution_count": 28,
   "metadata": {},
   "outputs": [],
   "source": [
    "cumulativeDataFrame = pd.pivot_table(clvDataframe, values=\"Amount\", index=['originYear'], columns=['Age'], aggfunc=np.sum)"
   ]
  },
  {
   "cell_type": "code",
   "execution_count": 29,
   "metadata": {},
   "outputs": [
    {
     "data": {
      "text/html": [
       "<div>\n",
       "<style scoped>\n",
       "    .dataframe tbody tr th:only-of-type {\n",
       "        vertical-align: middle;\n",
       "    }\n",
       "\n",
       "    .dataframe tbody tr th {\n",
       "        vertical-align: top;\n",
       "    }\n",
       "\n",
       "    .dataframe thead th {\n",
       "        text-align: right;\n",
       "    }\n",
       "</style>\n",
       "<table border=\"1\" class=\"dataframe\">\n",
       "  <thead>\n",
       "    <tr style=\"text-align: right;\">\n",
       "      <th>Age</th>\n",
       "      <th>12</th>\n",
       "      <th>24</th>\n",
       "      <th>36</th>\n",
       "      <th>48</th>\n",
       "      <th>60</th>\n",
       "      <th>72</th>\n",
       "    </tr>\n",
       "    <tr>\n",
       "      <th>originYear</th>\n",
       "      <th></th>\n",
       "      <th></th>\n",
       "      <th></th>\n",
       "      <th></th>\n",
       "      <th></th>\n",
       "      <th></th>\n",
       "    </tr>\n",
       "  </thead>\n",
       "  <tbody>\n",
       "    <tr>\n",
       "      <th>2010</th>\n",
       "      <td>2259.67</td>\n",
       "      <td>1355.11</td>\n",
       "      <td>1660.03</td>\n",
       "      <td>1357.56</td>\n",
       "      <td>1298.32</td>\n",
       "      <td>1033.8</td>\n",
       "    </tr>\n",
       "    <tr>\n",
       "      <th>2011</th>\n",
       "      <td>2238.46</td>\n",
       "      <td>1519.44</td>\n",
       "      <td>1708.09</td>\n",
       "      <td>1237.12</td>\n",
       "      <td>1159.13</td>\n",
       "      <td>NaN</td>\n",
       "    </tr>\n",
       "    <tr>\n",
       "      <th>2012</th>\n",
       "      <td>2181.35</td>\n",
       "      <td>1693.34</td>\n",
       "      <td>1352.17</td>\n",
       "      <td>1274.99</td>\n",
       "      <td>NaN</td>\n",
       "      <td>NaN</td>\n",
       "    </tr>\n",
       "    <tr>\n",
       "      <th>2013</th>\n",
       "      <td>2179.85</td>\n",
       "      <td>1429.96</td>\n",
       "      <td>1617.94</td>\n",
       "      <td>NaN</td>\n",
       "      <td>NaN</td>\n",
       "      <td>NaN</td>\n",
       "    </tr>\n",
       "    <tr>\n",
       "      <th>2014</th>\n",
       "      <td>1830.85</td>\n",
       "      <td>1431.20</td>\n",
       "      <td>NaN</td>\n",
       "      <td>NaN</td>\n",
       "      <td>NaN</td>\n",
       "      <td>NaN</td>\n",
       "    </tr>\n",
       "    <tr>\n",
       "      <th>2015</th>\n",
       "      <td>1912.17</td>\n",
       "      <td>NaN</td>\n",
       "      <td>NaN</td>\n",
       "      <td>NaN</td>\n",
       "      <td>NaN</td>\n",
       "      <td>NaN</td>\n",
       "    </tr>\n",
       "  </tbody>\n",
       "</table>\n",
       "</div>"
      ],
      "text/plain": [
       "Age              12       24       36       48       60      72\n",
       "originYear                                                     \n",
       "2010        2259.67  1355.11  1660.03  1357.56  1298.32  1033.8\n",
       "2011        2238.46  1519.44  1708.09  1237.12  1159.13     NaN\n",
       "2012        2181.35  1693.34  1352.17  1274.99      NaN     NaN\n",
       "2013        2179.85  1429.96  1617.94      NaN      NaN     NaN\n",
       "2014        1830.85  1431.20      NaN      NaN      NaN     NaN\n",
       "2015        1912.17      NaN      NaN      NaN      NaN     NaN"
      ]
     },
     "execution_count": 29,
     "metadata": {},
     "output_type": "execute_result"
    }
   ],
   "source": [
    "#This dataframe gives total transaction amount for customer in a time period\n",
    "cumulativeDataFrame"
   ]
  },
  {
   "cell_type": "code",
   "execution_count": 30,
   "metadata": {},
   "outputs": [],
   "source": [
    "#the below data consists of cumulative sum of amount over the year\n",
    "clvDataframe.sort_values([\"CustomerID\", \"Age\"]).reset_index(drop=True)\n",
    "data = clvDataframe.groupby(by = [\"originYear\", \"Year\", \"Age\"])[\"Amount\"].sum().groupby(by =[\"originYear\"]).cumsum().reset_index()"
   ]
  },
  {
   "cell_type": "code",
   "execution_count": 31,
   "metadata": {},
   "outputs": [
    {
     "data": {
      "text/html": [
       "<div>\n",
       "<style scoped>\n",
       "    .dataframe tbody tr th:only-of-type {\n",
       "        vertical-align: middle;\n",
       "    }\n",
       "\n",
       "    .dataframe tbody tr th {\n",
       "        vertical-align: top;\n",
       "    }\n",
       "\n",
       "    .dataframe thead th {\n",
       "        text-align: right;\n",
       "    }\n",
       "</style>\n",
       "<table border=\"1\" class=\"dataframe\">\n",
       "  <thead>\n",
       "    <tr style=\"text-align: right;\">\n",
       "      <th></th>\n",
       "      <th>originYear</th>\n",
       "      <th>Year</th>\n",
       "      <th>Age</th>\n",
       "      <th>Amount</th>\n",
       "      <th>CustomerID</th>\n",
       "    </tr>\n",
       "  </thead>\n",
       "  <tbody>\n",
       "    <tr>\n",
       "      <th>0</th>\n",
       "      <td>2010</td>\n",
       "      <td>2010</td>\n",
       "      <td>12</td>\n",
       "      <td>2259.67</td>\n",
       "      <td>172</td>\n",
       "    </tr>\n",
       "    <tr>\n",
       "      <th>1</th>\n",
       "      <td>2010</td>\n",
       "      <td>2011</td>\n",
       "      <td>24</td>\n",
       "      <td>3614.78</td>\n",
       "      <td>172</td>\n",
       "    </tr>\n",
       "    <tr>\n",
       "      <th>2</th>\n",
       "      <td>2010</td>\n",
       "      <td>2012</td>\n",
       "      <td>36</td>\n",
       "      <td>5274.81</td>\n",
       "      <td>172</td>\n",
       "    </tr>\n",
       "    <tr>\n",
       "      <th>3</th>\n",
       "      <td>2010</td>\n",
       "      <td>2013</td>\n",
       "      <td>48</td>\n",
       "      <td>6632.37</td>\n",
       "      <td>172</td>\n",
       "    </tr>\n",
       "    <tr>\n",
       "      <th>4</th>\n",
       "      <td>2010</td>\n",
       "      <td>2014</td>\n",
       "      <td>60</td>\n",
       "      <td>7930.69</td>\n",
       "      <td>172</td>\n",
       "    </tr>\n",
       "    <tr>\n",
       "      <th>5</th>\n",
       "      <td>2010</td>\n",
       "      <td>2015</td>\n",
       "      <td>72</td>\n",
       "      <td>8964.49</td>\n",
       "      <td>172</td>\n",
       "    </tr>\n",
       "    <tr>\n",
       "      <th>6</th>\n",
       "      <td>2011</td>\n",
       "      <td>2011</td>\n",
       "      <td>12</td>\n",
       "      <td>2238.46</td>\n",
       "      <td>170</td>\n",
       "    </tr>\n",
       "    <tr>\n",
       "      <th>7</th>\n",
       "      <td>2011</td>\n",
       "      <td>2012</td>\n",
       "      <td>24</td>\n",
       "      <td>3757.90</td>\n",
       "      <td>170</td>\n",
       "    </tr>\n",
       "    <tr>\n",
       "      <th>8</th>\n",
       "      <td>2011</td>\n",
       "      <td>2013</td>\n",
       "      <td>36</td>\n",
       "      <td>5465.99</td>\n",
       "      <td>170</td>\n",
       "    </tr>\n",
       "    <tr>\n",
       "      <th>9</th>\n",
       "      <td>2011</td>\n",
       "      <td>2014</td>\n",
       "      <td>48</td>\n",
       "      <td>6703.11</td>\n",
       "      <td>170</td>\n",
       "    </tr>\n",
       "    <tr>\n",
       "      <th>10</th>\n",
       "      <td>2011</td>\n",
       "      <td>2015</td>\n",
       "      <td>60</td>\n",
       "      <td>7862.24</td>\n",
       "      <td>170</td>\n",
       "    </tr>\n",
       "    <tr>\n",
       "      <th>11</th>\n",
       "      <td>2012</td>\n",
       "      <td>2012</td>\n",
       "      <td>12</td>\n",
       "      <td>2181.35</td>\n",
       "      <td>163</td>\n",
       "    </tr>\n",
       "    <tr>\n",
       "      <th>12</th>\n",
       "      <td>2012</td>\n",
       "      <td>2013</td>\n",
       "      <td>24</td>\n",
       "      <td>3874.69</td>\n",
       "      <td>163</td>\n",
       "    </tr>\n",
       "    <tr>\n",
       "      <th>13</th>\n",
       "      <td>2012</td>\n",
       "      <td>2014</td>\n",
       "      <td>36</td>\n",
       "      <td>5226.86</td>\n",
       "      <td>163</td>\n",
       "    </tr>\n",
       "    <tr>\n",
       "      <th>14</th>\n",
       "      <td>2012</td>\n",
       "      <td>2015</td>\n",
       "      <td>48</td>\n",
       "      <td>6501.85</td>\n",
       "      <td>163</td>\n",
       "    </tr>\n",
       "    <tr>\n",
       "      <th>15</th>\n",
       "      <td>2013</td>\n",
       "      <td>2013</td>\n",
       "      <td>12</td>\n",
       "      <td>2179.85</td>\n",
       "      <td>180</td>\n",
       "    </tr>\n",
       "    <tr>\n",
       "      <th>16</th>\n",
       "      <td>2013</td>\n",
       "      <td>2014</td>\n",
       "      <td>24</td>\n",
       "      <td>3609.81</td>\n",
       "      <td>180</td>\n",
       "    </tr>\n",
       "    <tr>\n",
       "      <th>17</th>\n",
       "      <td>2013</td>\n",
       "      <td>2015</td>\n",
       "      <td>36</td>\n",
       "      <td>5227.75</td>\n",
       "      <td>180</td>\n",
       "    </tr>\n",
       "    <tr>\n",
       "      <th>18</th>\n",
       "      <td>2014</td>\n",
       "      <td>2014</td>\n",
       "      <td>12</td>\n",
       "      <td>1830.85</td>\n",
       "      <td>155</td>\n",
       "    </tr>\n",
       "    <tr>\n",
       "      <th>19</th>\n",
       "      <td>2014</td>\n",
       "      <td>2015</td>\n",
       "      <td>24</td>\n",
       "      <td>3262.05</td>\n",
       "      <td>155</td>\n",
       "    </tr>\n",
       "    <tr>\n",
       "      <th>20</th>\n",
       "      <td>2015</td>\n",
       "      <td>2015</td>\n",
       "      <td>12</td>\n",
       "      <td>1912.17</td>\n",
       "      <td>160</td>\n",
       "    </tr>\n",
       "  </tbody>\n",
       "</table>\n",
       "</div>"
      ],
      "text/plain": [
       "    originYear  Year  Age   Amount  CustomerID\n",
       "0         2010  2010   12  2259.67         172\n",
       "1         2010  2011   24  3614.78         172\n",
       "2         2010  2012   36  5274.81         172\n",
       "3         2010  2013   48  6632.37         172\n",
       "4         2010  2014   60  7930.69         172\n",
       "5         2010  2015   72  8964.49         172\n",
       "6         2011  2011   12  2238.46         170\n",
       "7         2011  2012   24  3757.90         170\n",
       "8         2011  2013   36  5465.99         170\n",
       "9         2011  2014   48  6703.11         170\n",
       "10        2011  2015   60  7862.24         170\n",
       "11        2012  2012   12  2181.35         163\n",
       "12        2012  2013   24  3874.69         163\n",
       "13        2012  2014   36  5226.86         163\n",
       "14        2012  2015   48  6501.85         163\n",
       "15        2013  2013   12  2179.85         180\n",
       "16        2013  2014   24  3609.81         180\n",
       "17        2013  2015   36  5227.75         180\n",
       "18        2014  2014   12  1830.85         155\n",
       "19        2014  2015   24  3262.05         155\n",
       "20        2015  2015   12  1912.17         160"
      ]
     },
     "execution_count": 31,
     "metadata": {},
     "output_type": "execute_result"
    }
   ],
   "source": [
    "mergedData = pd.merge(data, ageDataframe, on=\"originYear\") \n",
    "mergedData"
   ]
  },
  {
   "cell_type": "code",
   "execution_count": 32,
   "metadata": {},
   "outputs": [],
   "source": [
    "amount = mergedData.pivot(index=\"originYear\", columns=\"Age\", values=\"Amount\").reset_index()"
   ]
  },
  {
   "cell_type": "code",
   "execution_count": 33,
   "metadata": {},
   "outputs": [],
   "source": [
    "age = mergedData.pivot(index=\"originYear\", columns=\"Age\", values=\"CustomerID\").reset_index()"
   ]
  },
  {
   "cell_type": "code",
   "execution_count": 34,
   "metadata": {},
   "outputs": [],
   "source": [
    "#Calculating History CLV\n",
    "historic = (amount/age)\n",
    "historic[\"originYear\"] = age[\"originYear\"]"
   ]
  },
  {
   "cell_type": "code",
   "execution_count": 35,
   "metadata": {},
   "outputs": [],
   "source": [
    "#Formatting the output\n",
    "amount['originYear'] = amount['originYear'].astype(str) +\"-01-01 \"+ amount['originYear'].astype(str) +\"-12-31\"\n",
    "age['originYear'] = age['originYear'].astype(str) +\"-01-01 \"+ age['originYear'].astype(str) +\"-12-31\"\n",
    "historic['originYear'] = historic['originYear'].astype(str) +\"-01-01 \"+ historic['originYear'].astype(str) +\"-12-31\""
   ]
  },
  {
   "cell_type": "code",
   "execution_count": 36,
   "metadata": {},
   "outputs": [
    {
     "data": {
      "text/html": [
       "<div>\n",
       "<style scoped>\n",
       "    .dataframe tbody tr th:only-of-type {\n",
       "        vertical-align: middle;\n",
       "    }\n",
       "\n",
       "    .dataframe tbody tr th {\n",
       "        vertical-align: top;\n",
       "    }\n",
       "\n",
       "    .dataframe thead th {\n",
       "        text-align: right;\n",
       "    }\n",
       "</style>\n",
       "<table border=\"1\" class=\"dataframe\">\n",
       "  <thead>\n",
       "    <tr style=\"text-align: right;\">\n",
       "      <th>Age</th>\n",
       "      <th>originYear</th>\n",
       "      <th>12</th>\n",
       "      <th>24</th>\n",
       "      <th>36</th>\n",
       "      <th>48</th>\n",
       "      <th>60</th>\n",
       "      <th>72</th>\n",
       "    </tr>\n",
       "  </thead>\n",
       "  <tbody>\n",
       "    <tr>\n",
       "      <th>0</th>\n",
       "      <td>2010-01-01 2010-12-31</td>\n",
       "      <td>2259.67</td>\n",
       "      <td>3614.78</td>\n",
       "      <td>5274.81</td>\n",
       "      <td>6632.37</td>\n",
       "      <td>7930.69</td>\n",
       "      <td>8964.49</td>\n",
       "    </tr>\n",
       "    <tr>\n",
       "      <th>1</th>\n",
       "      <td>2011-01-01 2011-12-31</td>\n",
       "      <td>2238.46</td>\n",
       "      <td>3757.90</td>\n",
       "      <td>5465.99</td>\n",
       "      <td>6703.11</td>\n",
       "      <td>7862.24</td>\n",
       "      <td>0.00</td>\n",
       "    </tr>\n",
       "    <tr>\n",
       "      <th>2</th>\n",
       "      <td>2012-01-01 2012-12-31</td>\n",
       "      <td>2181.35</td>\n",
       "      <td>3874.69</td>\n",
       "      <td>5226.86</td>\n",
       "      <td>6501.85</td>\n",
       "      <td>0.00</td>\n",
       "      <td>0.00</td>\n",
       "    </tr>\n",
       "    <tr>\n",
       "      <th>3</th>\n",
       "      <td>2013-01-01 2013-12-31</td>\n",
       "      <td>2179.85</td>\n",
       "      <td>3609.81</td>\n",
       "      <td>5227.75</td>\n",
       "      <td>0.00</td>\n",
       "      <td>0.00</td>\n",
       "      <td>0.00</td>\n",
       "    </tr>\n",
       "    <tr>\n",
       "      <th>4</th>\n",
       "      <td>2014-01-01 2014-12-31</td>\n",
       "      <td>1830.85</td>\n",
       "      <td>3262.05</td>\n",
       "      <td>0.00</td>\n",
       "      <td>0.00</td>\n",
       "      <td>0.00</td>\n",
       "      <td>0.00</td>\n",
       "    </tr>\n",
       "    <tr>\n",
       "      <th>5</th>\n",
       "      <td>2015-01-01 2015-12-31</td>\n",
       "      <td>1912.17</td>\n",
       "      <td>0.00</td>\n",
       "      <td>0.00</td>\n",
       "      <td>0.00</td>\n",
       "      <td>0.00</td>\n",
       "      <td>0.00</td>\n",
       "    </tr>\n",
       "  </tbody>\n",
       "</table>\n",
       "</div>"
      ],
      "text/plain": [
       "Age             originYear       12       24       36       48       60  \\\n",
       "0    2010-01-01 2010-12-31  2259.67  3614.78  5274.81  6632.37  7930.69   \n",
       "1    2011-01-01 2011-12-31  2238.46  3757.90  5465.99  6703.11  7862.24   \n",
       "2    2012-01-01 2012-12-31  2181.35  3874.69  5226.86  6501.85     0.00   \n",
       "3    2013-01-01 2013-12-31  2179.85  3609.81  5227.75     0.00     0.00   \n",
       "4    2014-01-01 2014-12-31  1830.85  3262.05     0.00     0.00     0.00   \n",
       "5    2015-01-01 2015-12-31  1912.17     0.00     0.00     0.00     0.00   \n",
       "\n",
       "Age       72  \n",
       "0    8964.49  \n",
       "1       0.00  \n",
       "2       0.00  \n",
       "3       0.00  \n",
       "4       0.00  \n",
       "5       0.00  "
      ]
     },
     "execution_count": 36,
     "metadata": {},
     "output_type": "execute_result"
    }
   ],
   "source": [
    "amount.fillna(0)"
   ]
  },
  {
   "cell_type": "code",
   "execution_count": 37,
   "metadata": {},
   "outputs": [
    {
     "data": {
      "text/html": [
       "<div>\n",
       "<style scoped>\n",
       "    .dataframe tbody tr th:only-of-type {\n",
       "        vertical-align: middle;\n",
       "    }\n",
       "\n",
       "    .dataframe tbody tr th {\n",
       "        vertical-align: top;\n",
       "    }\n",
       "\n",
       "    .dataframe thead th {\n",
       "        text-align: right;\n",
       "    }\n",
       "</style>\n",
       "<table border=\"1\" class=\"dataframe\">\n",
       "  <thead>\n",
       "    <tr style=\"text-align: right;\">\n",
       "      <th>Age</th>\n",
       "      <th>originYear</th>\n",
       "      <th>12</th>\n",
       "      <th>24</th>\n",
       "      <th>36</th>\n",
       "      <th>48</th>\n",
       "      <th>60</th>\n",
       "      <th>72</th>\n",
       "    </tr>\n",
       "  </thead>\n",
       "  <tbody>\n",
       "    <tr>\n",
       "      <th>0</th>\n",
       "      <td>2010-01-01 2010-12-31</td>\n",
       "      <td>172.0</td>\n",
       "      <td>172.0</td>\n",
       "      <td>172.0</td>\n",
       "      <td>172.0</td>\n",
       "      <td>172.0</td>\n",
       "      <td>172.0</td>\n",
       "    </tr>\n",
       "    <tr>\n",
       "      <th>1</th>\n",
       "      <td>2011-01-01 2011-12-31</td>\n",
       "      <td>170.0</td>\n",
       "      <td>170.0</td>\n",
       "      <td>170.0</td>\n",
       "      <td>170.0</td>\n",
       "      <td>170.0</td>\n",
       "      <td>0.0</td>\n",
       "    </tr>\n",
       "    <tr>\n",
       "      <th>2</th>\n",
       "      <td>2012-01-01 2012-12-31</td>\n",
       "      <td>163.0</td>\n",
       "      <td>163.0</td>\n",
       "      <td>163.0</td>\n",
       "      <td>163.0</td>\n",
       "      <td>0.0</td>\n",
       "      <td>0.0</td>\n",
       "    </tr>\n",
       "    <tr>\n",
       "      <th>3</th>\n",
       "      <td>2013-01-01 2013-12-31</td>\n",
       "      <td>180.0</td>\n",
       "      <td>180.0</td>\n",
       "      <td>180.0</td>\n",
       "      <td>0.0</td>\n",
       "      <td>0.0</td>\n",
       "      <td>0.0</td>\n",
       "    </tr>\n",
       "    <tr>\n",
       "      <th>4</th>\n",
       "      <td>2014-01-01 2014-12-31</td>\n",
       "      <td>155.0</td>\n",
       "      <td>155.0</td>\n",
       "      <td>0.0</td>\n",
       "      <td>0.0</td>\n",
       "      <td>0.0</td>\n",
       "      <td>0.0</td>\n",
       "    </tr>\n",
       "    <tr>\n",
       "      <th>5</th>\n",
       "      <td>2015-01-01 2015-12-31</td>\n",
       "      <td>160.0</td>\n",
       "      <td>0.0</td>\n",
       "      <td>0.0</td>\n",
       "      <td>0.0</td>\n",
       "      <td>0.0</td>\n",
       "      <td>0.0</td>\n",
       "    </tr>\n",
       "  </tbody>\n",
       "</table>\n",
       "</div>"
      ],
      "text/plain": [
       "Age             originYear     12     24     36     48     60     72\n",
       "0    2010-01-01 2010-12-31  172.0  172.0  172.0  172.0  172.0  172.0\n",
       "1    2011-01-01 2011-12-31  170.0  170.0  170.0  170.0  170.0    0.0\n",
       "2    2012-01-01 2012-12-31  163.0  163.0  163.0  163.0    0.0    0.0\n",
       "3    2013-01-01 2013-12-31  180.0  180.0  180.0    0.0    0.0    0.0\n",
       "4    2014-01-01 2014-12-31  155.0  155.0    0.0    0.0    0.0    0.0\n",
       "5    2015-01-01 2015-12-31  160.0    0.0    0.0    0.0    0.0    0.0"
      ]
     },
     "execution_count": 37,
     "metadata": {},
     "output_type": "execute_result"
    }
   ],
   "source": [
    "age.fillna(0)"
   ]
  },
  {
   "cell_type": "code",
   "execution_count": 38,
   "metadata": {},
   "outputs": [],
   "source": [
    "dataforPlot= np.array(historic)"
   ]
  },
  {
   "cell_type": "code",
   "execution_count": 39,
   "metadata": {},
   "outputs": [
    {
     "data": {
      "text/html": [
       "<div>\n",
       "<style scoped>\n",
       "    .dataframe tbody tr th:only-of-type {\n",
       "        vertical-align: middle;\n",
       "    }\n",
       "\n",
       "    .dataframe tbody tr th {\n",
       "        vertical-align: top;\n",
       "    }\n",
       "\n",
       "    .dataframe thead th {\n",
       "        text-align: right;\n",
       "    }\n",
       "</style>\n",
       "<table border=\"1\" class=\"dataframe\">\n",
       "  <thead>\n",
       "    <tr style=\"text-align: right;\">\n",
       "      <th>Age</th>\n",
       "      <th>originYear</th>\n",
       "      <th>12</th>\n",
       "      <th>24</th>\n",
       "      <th>36</th>\n",
       "      <th>48</th>\n",
       "      <th>60</th>\n",
       "      <th>72</th>\n",
       "    </tr>\n",
       "  </thead>\n",
       "  <tbody>\n",
       "    <tr>\n",
       "      <th>0</th>\n",
       "      <td>2010-01-01 2010-12-31</td>\n",
       "      <td>13.137616</td>\n",
       "      <td>21.016163</td>\n",
       "      <td>30.667500</td>\n",
       "      <td>38.560291</td>\n",
       "      <td>46.108663</td>\n",
       "      <td>52.119128</td>\n",
       "    </tr>\n",
       "    <tr>\n",
       "      <th>1</th>\n",
       "      <td>2011-01-01 2011-12-31</td>\n",
       "      <td>13.167412</td>\n",
       "      <td>22.105294</td>\n",
       "      <td>32.152882</td>\n",
       "      <td>39.430059</td>\n",
       "      <td>46.248471</td>\n",
       "      <td>0.000000</td>\n",
       "    </tr>\n",
       "    <tr>\n",
       "      <th>2</th>\n",
       "      <td>2012-01-01 2012-12-31</td>\n",
       "      <td>13.382515</td>\n",
       "      <td>23.771104</td>\n",
       "      <td>32.066626</td>\n",
       "      <td>39.888650</td>\n",
       "      <td>0.000000</td>\n",
       "      <td>0.000000</td>\n",
       "    </tr>\n",
       "    <tr>\n",
       "      <th>3</th>\n",
       "      <td>2013-01-01 2013-12-31</td>\n",
       "      <td>12.110278</td>\n",
       "      <td>20.054500</td>\n",
       "      <td>29.043056</td>\n",
       "      <td>0.000000</td>\n",
       "      <td>0.000000</td>\n",
       "      <td>0.000000</td>\n",
       "    </tr>\n",
       "    <tr>\n",
       "      <th>4</th>\n",
       "      <td>2014-01-01 2014-12-31</td>\n",
       "      <td>11.811935</td>\n",
       "      <td>21.045484</td>\n",
       "      <td>0.000000</td>\n",
       "      <td>0.000000</td>\n",
       "      <td>0.000000</td>\n",
       "      <td>0.000000</td>\n",
       "    </tr>\n",
       "    <tr>\n",
       "      <th>5</th>\n",
       "      <td>2015-01-01 2015-12-31</td>\n",
       "      <td>11.951063</td>\n",
       "      <td>0.000000</td>\n",
       "      <td>0.000000</td>\n",
       "      <td>0.000000</td>\n",
       "      <td>0.000000</td>\n",
       "      <td>0.000000</td>\n",
       "    </tr>\n",
       "  </tbody>\n",
       "</table>\n",
       "</div>"
      ],
      "text/plain": [
       "Age             originYear         12         24         36         48  \\\n",
       "0    2010-01-01 2010-12-31  13.137616  21.016163  30.667500  38.560291   \n",
       "1    2011-01-01 2011-12-31  13.167412  22.105294  32.152882  39.430059   \n",
       "2    2012-01-01 2012-12-31  13.382515  23.771104  32.066626  39.888650   \n",
       "3    2013-01-01 2013-12-31  12.110278  20.054500  29.043056   0.000000   \n",
       "4    2014-01-01 2014-12-31  11.811935  21.045484   0.000000   0.000000   \n",
       "5    2015-01-01 2015-12-31  11.951063   0.000000   0.000000   0.000000   \n",
       "\n",
       "Age         60         72  \n",
       "0    46.108663  52.119128  \n",
       "1    46.248471   0.000000  \n",
       "2     0.000000   0.000000  \n",
       "3     0.000000   0.000000  \n",
       "4     0.000000   0.000000  \n",
       "5     0.000000   0.000000  "
      ]
     },
     "execution_count": 39,
     "metadata": {},
     "output_type": "execute_result"
    }
   ],
   "source": [
    "historic.fillna(0)"
   ]
  },
  {
   "cell_type": "code",
   "execution_count": 40,
   "metadata": {},
   "outputs": [],
   "source": [
    "ageforplot = [12,24,36,48,60,72]\n",
    "data2010 = dataforPlot[0,1:]\n",
    "data2011 = dataforPlot[1,1:]\n",
    "data2012 = dataforPlot[2,1:]\n",
    "data2013 = dataforPlot[3,1:]\n",
    "data2014 = dataforPlot[4,1:]\n",
    "data2015 = dataforPlot[5,1:]"
   ]
  },
  {
   "cell_type": "code",
   "execution_count": 41,
   "metadata": {},
   "outputs": [
    {
     "data": {
      "image/png": "[encoded data removed]",
      "text/plain": [
       "<Figure size 432x288 with 1 Axes>"
      ]
     },
     "metadata": {
      "needs_background": "light"
     },
     "output_type": "display_data"
    }
   ],
   "source": [
    "#Plot for individual year\n",
    "plt.plot(data2010, ageforplot, marker='o', label = \"2010-01-01 - 2010-12-31\")\n",
    "plt.plot(data2011, ageforplot, marker='o', label = \"2011-01-01 - 2011-12-31\")\n",
    "plt.plot(data2012, ageforplot, marker='o', label = \"2012-01-01 - 2012-12-31\")\n",
    "plt.plot(data2013, ageforplot, marker='o', label = \"2013-01-01 - 2013-12-31\")\n",
    "plt.plot(data2014, ageforplot, marker='o', label = \"2014-01-01 - 2014-12-31\")\n",
    "plt.plot(data2015, ageforplot, marker='o', label = \"2015-01-01 - 2015-12-31\")\n",
    "plt.xlabel(\"Age\")\n",
    "plt.ylabel = \"Historic CLV\"\n",
    "plt.legend()\n",
    "plt.grid()\n",
    "plt.show()"
   ]
  },
  {
   "cell_type": "code",
   "execution_count": 42,
   "metadata": {},
   "outputs": [],
   "source": [
    "age = age.iloc[:,1:]\n",
    "historic = historic.iloc[:,1:]\n",
    "weighted = historic*age"
   ]
  },
  {
   "cell_type": "code",
   "execution_count": 43,
   "metadata": {},
   "outputs": [],
   "source": [
    "#Single CLV plot weighted\n",
    "weightedPlot =[ weighted.iloc[:,0:1].sum()/age.iloc[:,0:1].sum(), \\\n",
    "    weighted.iloc[:,1:2].sum()/age.iloc[:,1:2].sum(),\n",
    "    weighted.iloc[:,2:3].sum()/age.iloc[:,2:3].sum(), \n",
    "    weighted.iloc[:,3:4].sum()/age.iloc[:,3:4].sum(), \n",
    "    weighted.iloc[:,4:5].sum()/age.iloc[:,4:5].sum(),\n",
    "    weighted.iloc[:,5:6].sum()/age.iloc[:,5:6].sum()  ]"
   ]
  },
  {
   "cell_type": "code",
   "execution_count": 44,
   "metadata": {},
   "outputs": [
    {
     "data": {
      "image/png": "[encoded data removed]",
      "text/plain": [
       "<Figure size 432x288 with 1 Axes>"
      ]
     },
     "metadata": {
      "needs_background": "light"
     },
     "output_type": "display_data"
    }
   ],
   "source": [
    "plt.plot(weightedPlot, ageforplot, marker=\"o\")\n",
    "plt.xlabel(\"Age\")\n",
    "plt.ylabel = \"Historic CLV\"\n",
    "plt.grid()\n",
    "plt.show()"
   ]
  },
  {
   "cell_type": "markdown",
   "metadata": {},
   "source": [
    "Customers acquired in 2011 have spent ~$46 to date.\n",
    "All the other group of customers exhibit the same pattern of spending.\n",
    "Due to which it is safe to assume $52 is a lower bound on CLV as the first customer\n",
    "was acquired in 2010 and that customer has maximum age till date\n",
    "This also means high clv translate to better market-product fit and recurring revenue from the customers"
   ]
  },
  {
   "cell_type": "code",
   "execution_count": null,
   "metadata": {},
   "outputs": [],
   "source": []
  }
 ],
 "metadata": {
  "interpreter": {
   "hash": "b3ba2566441a7c06988d0923437866b63cedc61552a5af99d1f4fb67d367b25f"
  },
  "kernelspec": {
   "display_name": "Python 3.8.8 64-bit ('base': conda)",
   "language": "python",
   "name": "python3"
  },
  "language_info": {
   "codemirror_mode": {
    "name": "ipython",
    "version": 3
   },
   "file_extension": ".py",
   "mimetype": "text/x-python",
   "name": "python",
   "nbconvert_exporter": "python",
   "pygments_lexer": "ipython3",
   "version": "3.8.8"
  },
  "orig_nbformat": 4
 },
 "nbformat": 4,
 "nbformat_minor": 2
}
